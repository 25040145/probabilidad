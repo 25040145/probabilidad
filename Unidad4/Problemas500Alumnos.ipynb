{
  "nbformat": 4,
  "nbformat_minor": 0,
  "metadata": {
    "colab": {
      "provenance": [],
      "authorship_tag": "ABX9TyPyTJjAx2dm1QiaLOVXTeAI",
      "include_colab_link": true
    },
    "kernelspec": {
      "name": "python3",
      "display_name": "Python 3"
    },
    "language_info": {
      "name": "python"
    }
  },
  "cells": [
    {
      "cell_type": "markdown",
      "metadata": {
        "id": "view-in-github",
        "colab_type": "text"
      },
      "source": [
        "<a href=\"https://colab.research.google.com/github/25040145/probabilidad/blob/main/Unidad4/Problemas500Alumnos.ipynb\" target=\"_parent\"><img src=\"https://colab.research.google.com/assets/colab-badge.svg\" alt=\"Open In Colab\"/></a>"
      ]
    },
    {
      "cell_type": "code",
      "execution_count": 5,
      "metadata": {
        "id": "OSf7lCym7atF"
      },
      "outputs": [],
      "source": [
        "import scipy.stats as stats"
      ]
    },
    {
      "cell_type": "code",
      "source": [
        "# Generar datos para la distribucion normal\n",
        "\n",
        "media = 70 # Media\n",
        "desv_std = 4 # Desviavion estandar\n",
        "num_datos = 500"
      ],
      "metadata": {
        "id": "dhR1IHDw7q2X"
      },
      "execution_count": 9,
      "outputs": []
    },
    {
      "cell_type": "markdown",
      "source": [
        "##*La probabilidad de estudiantes que pesan más de 68 y menos de 72 kg.*"
      ],
      "metadata": {
        "id": "kMCCUG-F8LJI"
      }
    },
    {
      "cell_type": "code",
      "source": [
        "prob_68 = stats.norm.cdf(68, media, desv_std)\n",
        "prob_72 = stats.norm.cdf(72, media, desv_std)\n",
        "\n",
        "probabilidad = prob_72 - prob_68"
      ],
      "metadata": {
        "id": "fpjQ-mBi8p2E"
      },
      "execution_count": 20,
      "outputs": []
    },
    {
      "cell_type": "markdown",
      "source": [
        "## *Cuantos estudiantes pesan más de 68 y menos de 72 kg*"
      ],
      "metadata": {
        "id": "oZzULreh8Rp5"
      }
    },
    {
      "cell_type": "code",
      "source": [
        "estudiantes = probabilidad * num_datos\n",
        "\n",
        "# Mostrar resultados\n",
        "print(f\"Probabilidad de que un estudiante pese entre 68 y 72 kg: {probabilidad:.3f}\")\n",
        "print(f\"Número de estudiantes que pesan entre 68 y 72 kg: {estudiantes:.2f}\")"
      ],
      "metadata": {
        "colab": {
          "base_uri": "https://localhost:8080/"
        },
        "id": "CFRoLSN88Xge",
        "outputId": "c6407dde-e9a3-410e-95ff-2710823492f5"
      },
      "execution_count": 19,
      "outputs": [
        {
          "output_type": "stream",
          "name": "stdout",
          "text": [
            "Probabilidad de que un estudiante pese entre 68 y 72 kg: 0.383\n",
            "Número de estudiantes que pesan entre 68 y 72 kg: 191.46\n"
          ]
        }
      ]
    }
  ]
}