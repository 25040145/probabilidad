{
  "nbformat": 4,
  "nbformat_minor": 0,
  "metadata": {
    "colab": {
      "provenance": [],
      "authorship_tag": "ABX9TyP8KwMoApFIOr6lcd2omMtG",
      "include_colab_link": true
    },
    "kernelspec": {
      "name": "python3",
      "display_name": "Python 3"
    },
    "language_info": {
      "name": "python"
    }
  },
  "cells": [
    {
      "cell_type": "markdown",
      "metadata": {
        "id": "view-in-github",
        "colab_type": "text"
      },
      "source": [
        "<a href=\"https://colab.research.google.com/github/25040145/probabilidad/blob/main/Unidad4/VarianzaYDesviacion.ipynb\" target=\"_parent\"><img src=\"https://colab.research.google.com/assets/colab-badge.svg\" alt=\"Open In Colab\"/></a>"
      ]
    },
    {
      "cell_type": "code",
      "execution_count": null,
      "metadata": {
        "id": "6epE_U8318JD"
      },
      "outputs": [],
      "source": [
        "import math\n",
        "x= [5, 6 , 7, 8, 9, 10]\n",
        "p= [0.05 ,0.10 , 0.20 ,0.30 ,0.25, 0.10]"
      ]
    },
    {
      "cell_type": "code",
      "source": [
        "# Calcular E(X)\n",
        "esperanza = 0\n",
        "for i in range(len(x)):\n",
        "    esperanza += x[i] * p[i]"
      ],
      "metadata": {
        "id": "8gu0Qybl3aN7"
      },
      "execution_count": null,
      "outputs": []
    },
    {
      "cell_type": "code",
      "source": [
        "# Calcular E(X^2)\n",
        "esperanza_cuadrado = 0\n",
        "for i in range(len(x)):\n",
        "    esperanza_cuadrado += (x[i]**2) * p[i]"
      ],
      "metadata": {
        "id": "0lAdvqVG3xGm"
      },
      "execution_count": null,
      "outputs": []
    },
    {
      "cell_type": "code",
      "source": [
        "#Calcular varianza y desviacion estandar\n",
        "varianza = esperanza_cuadrado - (esperanza**2)\n",
        "desviacion_estandar = math.sqrt(varianza)"
      ],
      "metadata": {
        "id": "jjPNu_h-4c9_"
      },
      "execution_count": null,
      "outputs": []
    },
    {
      "cell_type": "code",
      "source": [
        "# Mostrar Resultados\n",
        "print(f\"E(X) = {esperanza:.2f}\")\n",
        "print(f\"E(X^2) = {esperanza_cuadrado:.2f}\")\n",
        "print(f\"Varianza = {varianza:.2f}\")\n",
        "print(f\"Desviacion estandar = {desviacion_estandar:.2f}\")"
      ],
      "metadata": {
        "colab": {
          "base_uri": "https://localhost:8080/"
        },
        "id": "60DyDeRJ6tXw",
        "outputId": "064ad830-d0c6-4189-97bc-1ffee5062fc9"
      },
      "execution_count": null,
      "outputs": [
        {
          "output_type": "stream",
          "name": "stdout",
          "text": [
            "E(X) = 7.90\n",
            "E(X^2) = 64.10\n",
            "Varianza = 1.69\n",
            "Desviacion estandar = 1.30\n"
          ]
        }
      ]
    }
  ]
}