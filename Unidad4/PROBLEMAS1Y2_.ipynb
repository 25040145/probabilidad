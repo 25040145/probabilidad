{
  "nbformat": 4,
  "nbformat_minor": 0,
  "metadata": {
    "colab": {
      "provenance": [],
      "authorship_tag": "ABX9TyNzQNATbnnnUOjjp5YFfdgk",
      "include_colab_link": true
    },
    "kernelspec": {
      "name": "python3",
      "display_name": "Python 3"
    },
    "language_info": {
      "name": "python"
    }
  },
  "cells": [
    {
      "cell_type": "markdown",
      "metadata": {
        "id": "view-in-github",
        "colab_type": "text"
      },
      "source": [
        "<a href=\"https://colab.research.google.com/github/25040145/probabilidad/blob/main/Unidad4/PROBLEMAS1Y2_.ipynb\" target=\"_parent\"><img src=\"https://colab.research.google.com/assets/colab-badge.svg\" alt=\"Open In Colab\"/></a>"
      ]
    },
    {
      "cell_type": "markdown",
      "source": [
        "Problema 1\n",
        "\n",
        "Tipo de distribución: Poisson\n",
        "porque se trata del número de eventos de personas ingresadas, que ocurren en un intervalo de tiempo que es un día, con una tasa promedio conocida λ = 5.\n",
        "\n",
        "Formula\n",
        "P(X = x) = \\frac{e^{-λ} λ^x}{x!}\n",
        "\n",
        "Datos\n",
        "λ = 5\n",
        "a) x = 2\n",
        "b) x > 10"
      ],
      "metadata": {
        "id": "VWBiFYDNfYp9"
      }
    },
    {
      "cell_type": "code",
      "source": [
        "# PROBLEMA 1 - Distribución de Poisson\n",
        "from math import exp, factorial\n",
        "from scipy.stats import poisson"
      ],
      "metadata": {
        "id": "Ok-i81FVa92R"
      },
      "execution_count": null,
      "outputs": []
    },
    {
      "cell_type": "code",
      "source": [
        "# Parámetros\n",
        "lamb = 5  # Media de Poisson"
      ],
      "metadata": {
        "id": "eicQrE1qbCdu"
      },
      "execution_count": null,
      "outputs": []
    },
    {
      "cell_type": "code",
      "source": [
        "# a) Probabilidad de que X = 2\n",
        "x1 = 2\n",
        "p_x2 = poisson.pmf(x1, lamb)\n",
        "print(\"Problema 1:\")\n",
        "print(f\"a) P(X = 2) = {p_x2:.5f}\")"
      ],
      "metadata": {
        "colab": {
          "base_uri": "https://localhost:8080/"
        },
        "id": "hvJ0DK2xbGPH",
        "outputId": "76fb97b3-da59-41df-9add-9fcd69421c96"
      },
      "execution_count": null,
      "outputs": [
        {
          "output_type": "stream",
          "name": "stdout",
          "text": [
            "Problema 1:\n",
            "a) P(X = 2) = 0.08422\n"
          ]
        }
      ]
    },
    {
      "cell_type": "code",
      "source": [
        "# b) Probabilidad de que X > 10\n",
        "p_mayor10 = 1 - poisson.cdf(10, lamb)\n",
        "print(f\"b) P(X > 10) = {p_mayor10:.5f}\")\n",
        "\n",
        "if p_mayor10 < 0.05:\n",
        "    print(\" No es muy probable que exceda de 10.\")\n",
        "else:\n",
        "    print(\" Es probable que exceda de 10.\")"
      ],
      "metadata": {
        "colab": {
          "base_uri": "https://localhost:8080/"
        },
        "id": "i5ZXLQcRbHVv",
        "outputId": "9899fc83-b962-4ca2-c89e-364b8f12b2aa"
      },
      "execution_count": null,
      "outputs": [
        {
          "output_type": "stream",
          "name": "stdout",
          "text": [
            "b) P(X > 10) = 0.01370\n",
            " No es muy probable que exceda de 10.\n"
          ]
        }
      ]
    },
    {
      "cell_type": "markdown",
      "source": [
        "Problema 2\n",
        "Tipo de distribución:Binomial\n",
        "Porque se tienen un número fijo de ensayos n = 1000 motores, dos posibles resultados que son defectuoso o no y probabilidad constante de defecto p = 0.001.\n",
        "\n",
        "Formula\n",
        "P(X = x) = \\binom{n}{x} p^x (1-p)^{n-x}\n",
        "\n",
        "Datos\n",
        "n = 1000\n",
        "p = 0.001\n",
        "x = 0, 3, 4"
      ],
      "metadata": {
        "id": "eBjs7uxHgu-B"
      }
    },
    {
      "cell_type": "code",
      "source": [
        "# PROBLEMA 2 - Distribución Binomial\n",
        "from scipy.stats import binom\n",
        "# Parámetros\n",
        "n = 1000\n",
        "p = 0.001\n"
      ],
      "metadata": {
        "id": "zVIxrwftbKex"
      },
      "execution_count": null,
      "outputs": []
    },
    {
      "cell_type": "code",
      "source": [
        "#a) Ninguno defectuoso (x = 0)\n",
        "p0 = binom.pmf(0, n, p)\n",
        "\n",
        "#b) Tres defectuosos (x = 3)\n",
        "p3 = binom.pmf(3, n, p)\n",
        "\n",
        "#c) Cuatro defectuosos (x = 4)\n",
        "p4 = binom.pmf(4, n, p)"
      ],
      "metadata": {
        "id": "wI6x9Psrbd9A"
      },
      "execution_count": null,
      "outputs": []
    },
    {
      "cell_type": "code",
      "source": [
        "print(\"\\nPROBLEMA 2:\")\n",
        "print(f\"a) P(X = 0) = {p0:.6f}\")\n",
        "print(f\"b) P(X = 3) = {p3:.6f}\")\n",
        "print(f\"c) P(X = 4) = {p4:.6f}\")\n"
      ],
      "metadata": {
        "colab": {
          "base_uri": "https://localhost:8080/"
        },
        "id": "v9iit_0tbj7n",
        "outputId": "58e49ca0-585b-4f14-edc5-dc889ca43ca8"
      },
      "execution_count": null,
      "outputs": [
        {
          "output_type": "stream",
          "name": "stdout",
          "text": [
            "\n",
            "PROBLEMA 2:\n",
            "a) P(X = 0) = 0.367695\n",
            "b) P(X = 3) = 0.061283\n",
            "c) P(X = 4) = 0.015290\n"
          ]
        }
      ]
    },
    {
      "cell_type": "code",
      "source": [
        "# Interpretación simple\n",
        "print(\"\\nInterpretación:\")\n",
        "print(\"Es muy probable que ninguno sea defectuoso.\")\n",
        "print(\"Las probabilidades de que 3 o 4 sean defectuosos son pequeñas.\")"
      ],
      "metadata": {
        "colab": {
          "base_uri": "https://localhost:8080/"
        },
        "id": "2NCZFLwebnYO",
        "outputId": "e5f564b1-1686-4ad5-946d-951e71f063a2"
      },
      "execution_count": null,
      "outputs": [
        {
          "output_type": "stream",
          "name": "stdout",
          "text": [
            "\n",
            "Interpretación:\n",
            "Es muy probable que ninguno sea defectuoso.\n",
            "Las probabilidades de que 3 o 4 sean defectuosos son pequeñas.\n"
          ]
        }
      ]
    }
  ]
}
