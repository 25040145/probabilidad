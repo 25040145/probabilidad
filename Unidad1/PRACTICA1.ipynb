{
  "cells": [
    {
      "cell_type": "markdown",
      "metadata": {
        "id": "view-in-github",
        "colab_type": "text"
      },
      "source": [
        "<a href=\"https://colab.research.google.com/github/25040145/probabilidad/blob/main/Unidad1/PRACTICA1.ipynb\" target=\"_parent\"><img src=\"https://colab.research.google.com/assets/colab-badge.svg\" alt=\"Open In Colab\"/></a>"
      ]
    },
    {
      "cell_type": "markdown",
      "source": [
        "# **PROBABILIDAD Y ESTADISTICA**\n",
        "## GRUPO: 2Y\n",
        "## **UNIDAD 1**\n",
        "## DOCENTE: JOSE GABRIEL RODRIGUEZ RIOS\n",
        "## ALUMNO:ANDREE OSVALDO MORENO SERNA\n",
        "## **PRACTICA 1: MEDIDAS DE TENDENCIAS CENTRAL HISTOGRAMAS**"
      ],
      "metadata": {
        "id": "OmrlUKsqyAo-"
      }
    },
    {
      "cell_type": "markdown",
      "metadata": {
        "id": "GOWEDYcyJWRa"
      },
      "source": [
        "#Ejemplo 1:Registro de calificaciones"
      ]
    },
    {
      "cell_type": "code",
      "execution_count": 20,
      "metadata": {
        "id": "idLzV4boHeNM"
      },
      "outputs": [],
      "source": [
        "from statistics import *"
      ]
    },
    {
      "cell_type": "code",
      "execution_count": 21,
      "metadata": {
        "colab": {
          "base_uri": "https://localhost:8080/"
        },
        "id": "CdNGYgtiIhQK",
        "outputId": "3fd2fb89-f7c4-4020-c82c-b53f282df24d"
      },
      "outputs": [
        {
          "output_type": "stream",
          "name": "stdout",
          "text": [
            "[70, 70, 65, 90, 100, 95, 45, 80, 73, 20, 100, 96]\n"
          ]
        }
      ],
      "source": [
        "# Lista de calificaciones del grupo de probabilidad y estadistica\n",
        "grupo_a = [70,70,65,90,100,95,45,80,73, 20,100, 96]\n",
        "print(grupo_a)"
      ]
    },
    {
      "cell_type": "markdown",
      "metadata": {
        "id": "f1g5MSlzJMbo"
      },
      "source": [
        "La funcion type nos devuelve el tipo de dato de la variable"
      ]
    },
    {
      "cell_type": "code",
      "execution_count": 22,
      "metadata": {
        "id": "ImpgV_0mJUI6",
        "colab": {
          "base_uri": "https://localhost:8080/"
        },
        "outputId": "4192e89f-6614-444b-d4b3-848c91473291"
      },
      "outputs": [
        {
          "output_type": "execute_result",
          "data": {
            "text/plain": [
              "list"
            ]
          },
          "metadata": {},
          "execution_count": 22
        }
      ],
      "source": [
        "type(grupo_a)"
      ]
    },
    {
      "cell_type": "markdown",
      "metadata": {
        "id": "VfpMTYaRKAVA"
      },
      "source": [
        "Sacar la media de las calificaciones del grupo a"
      ]
    },
    {
      "cell_type": "code",
      "execution_count": 23,
      "metadata": {
        "colab": {
          "base_uri": "https://localhost:8080/"
        },
        "id": "T0sGF6z-KGI_",
        "outputId": "5c6a46a0-d019-41fd-bdc6-4b5b8853a39f"
      },
      "outputs": [
        {
          "output_type": "stream",
          "name": "stdout",
          "text": [
            "75.33333333333333\n"
          ]
        }
      ],
      "source": [
        "promedio = sum(grupo_a)/len(grupo_a)\n",
        "print(promedio)"
      ]
    },
    {
      "cell_type": "code",
      "source": [
        "promedio2 = mean(grupo_a)\n",
        "print(promedio2)"
      ],
      "metadata": {
        "colab": {
          "base_uri": "https://localhost:8080/"
        },
        "id": "09vtDoMSyens",
        "outputId": "b71f8a93-c777-4c40-a7a4-576a78a7611a"
      },
      "execution_count": 24,
      "outputs": [
        {
          "output_type": "stream",
          "name": "stdout",
          "text": [
            "75.33333333333333\n"
          ]
        }
      ]
    },
    {
      "cell_type": "markdown",
      "metadata": {
        "id": "qG2yP5UmKu8r"
      },
      "source": [
        "Determinar el valor de la mediana con la funcion de media de la libreria stadistics"
      ]
    },
    {
      "cell_type": "code",
      "execution_count": 25,
      "metadata": {
        "colab": {
          "base_uri": "https://localhost:8080/"
        },
        "id": "Tm6lqvWHK4PU",
        "outputId": "d52a2316-221a-4729-aa59-52eb9e830c3c"
      },
      "outputs": [
        {
          "output_type": "stream",
          "name": "stdout",
          "text": [
            "76.5\n"
          ]
        }
      ],
      "source": [
        "mediana = median(grupo_a)\n",
        "print(mediana)"
      ]
    },
    {
      "cell_type": "markdown",
      "metadata": {
        "id": "66DlrRr0LD9M"
      },
      "source": [
        "Determinar el valor de la moda con la funcion de mode en la libreria stadistics"
      ]
    },
    {
      "cell_type": "code",
      "execution_count": 26,
      "metadata": {
        "id": "K6I5wA-rLDHk",
        "colab": {
          "base_uri": "https://localhost:8080/"
        },
        "outputId": "31a7b4fa-2a3a-4cd1-d160-ab7f90eab854"
      },
      "outputs": [
        {
          "output_type": "stream",
          "name": "stdout",
          "text": [
            "70\n"
          ]
        }
      ],
      "source": [
        "moda = mode(grupo_a)\n",
        "print(moda)"
      ]
    },
    {
      "cell_type": "markdown",
      "metadata": {
        "id": "NwROYMc_LWtk"
      },
      "source": [
        "Determinar cuantas modas hay con la funcion de multimode de la libreria stadistics"
      ]
    },
    {
      "cell_type": "code",
      "execution_count": 27,
      "metadata": {
        "colab": {
          "base_uri": "https://localhost:8080/"
        },
        "id": "76LyyekBLkbK",
        "outputId": "e0bdb0c0-607f-4c89-a5a2-3324ca6f856b"
      },
      "outputs": [
        {
          "output_type": "stream",
          "name": "stdout",
          "text": [
            "[70, 100]\n"
          ]
        }
      ],
      "source": [
        "moda2 = multimode(grupo_a)\n",
        "print(moda2)"
      ]
    },
    {
      "cell_type": "code",
      "execution_count": 28,
      "metadata": {
        "colab": {
          "base_uri": "https://localhost:8080/"
        },
        "id": "rSkBeQOwL5H1",
        "outputId": "adb46c07-d80a-4887-8934-e9f679d665d4"
      },
      "outputs": [
        {
          "output_type": "stream",
          "name": "stdout",
          "text": [
            "[15.1, 17.2, 14.69, 13.27, 22, 15, 18.71, 19.15, 20.32, 15.1, 17.2]\n"
          ]
        }
      ],
      "source": [
        "tiempos100mts = [15.10, 17.20, 14.69, 13.27, 22, 15, 18.71, 19.15, 20.32, 15.10, 17.20]\n",
        "print(tiempos100mts)"
      ]
    },
    {
      "cell_type": "code",
      "source": [
        "print(\"El tiempo de los corredores es\", mean(tiempos100mts))"
      ],
      "metadata": {
        "colab": {
          "base_uri": "https://localhost:8080/"
        },
        "id": "TcvdO84hvscy",
        "outputId": "884c84fc-b228-451a-b107-60bb9d90804f"
      },
      "execution_count": 29,
      "outputs": [
        {
          "output_type": "stream",
          "name": "stdout",
          "text": [
            "El tiempo de los corredores es 17.067272727272726\n"
          ]
        }
      ]
    },
    {
      "cell_type": "markdown",
      "source": [
        "MEDIANA"
      ],
      "metadata": {
        "id": "zRQjWSUcwnZ4"
      }
    },
    {
      "cell_type": "code",
      "source": [
        "mediana=median(tiempos100mts)\n",
        "print(\"La media  de los tiempos de los corredores es=> \", mediana)"
      ],
      "metadata": {
        "colab": {
          "base_uri": "https://localhost:8080/"
        },
        "id": "6I6r8eoYwodA",
        "outputId": "3756f9b6-0b47-4550-db98-d22815b7feda"
      },
      "execution_count": 31,
      "outputs": [
        {
          "output_type": "stream",
          "name": "stdout",
          "text": [
            "La media  de los tiempos de los corredores es=>  17.2\n"
          ]
        }
      ]
    },
    {
      "cell_type": "markdown",
      "source": [
        "MODA"
      ],
      "metadata": {
        "id": "tjhoJHXh0LkO"
      }
    },
    {
      "cell_type": "code",
      "source": [
        "moda=mode(tiempos100mts)\n",
        "print(\"La moda de los tiempos es=>\",moda)"
      ],
      "metadata": {
        "colab": {
          "base_uri": "https://localhost:8080/"
        },
        "id": "YKjo9aci0Jzs",
        "outputId": "e86bab33-c13b-4b32-8745-6a8736ec95c2"
      },
      "execution_count": 32,
      "outputs": [
        {
          "output_type": "stream",
          "name": "stdout",
          "text": [
            "La moda de los tiempos es=> 15.1\n"
          ]
        }
      ]
    },
    {
      "cell_type": "markdown",
      "source": [
        "MULTIMODA"
      ],
      "metadata": {
        "id": "iQYWo6sh0PX9"
      }
    },
    {
      "cell_type": "code",
      "source": [
        "multimoda=multimode(tiempos100mts)\n",
        "print(\"La multi moda de los tiempos es=>\",multimoda)"
      ],
      "metadata": {
        "colab": {
          "base_uri": "https://localhost:8080/"
        },
        "id": "apxmWMnJ0V7x",
        "outputId": "5cb5855e-9707-4a26-f4f5-f7f153f4e9b9"
      },
      "execution_count": 33,
      "outputs": [
        {
          "output_type": "stream",
          "name": "stdout",
          "text": [
            "La multi moda de los tiempos es=> [15.1, 17.2]\n"
          ]
        }
      ]
    },
    {
      "cell_type": "code",
      "source": [
        "import random"
      ],
      "metadata": {
        "id": "MEh3N2Nc0Ymt"
      },
      "execution_count": 35,
      "outputs": []
    },
    {
      "cell_type": "code",
      "source": [
        "fabrica1=[]\n",
        "for i in range(100):\n",
        "  numero_aleatorio = round(random.uniform(50, 100), 2 )\n",
        "  fabrica1.append(numero_aleatorio)\n",
        "print(fabrica1)"
      ],
      "metadata": {
        "colab": {
          "base_uri": "https://localhost:8080/"
        },
        "id": "VJDnCKJL0eQP",
        "outputId": "7e3c2152-24fc-4158-9d3e-b6a66a1a85aa"
      },
      "execution_count": 36,
      "outputs": [
        {
          "output_type": "stream",
          "name": "stdout",
          "text": [
            "[55.4, 63.03, 59.86, 64.71, 80.55, 92.99, 55.8, 77.19, 59.94, 58.42, 58.91, 84.93, 51.38, 94.08, 69.57, 77.68, 87.81, 88.07, 70.98, 74.02, 58.47, 76.55, 60.43, 78.05, 54.89, 82.92, 56.05, 78.98, 51.33, 82.82, 59.75, 92.04, 60.43, 77.62, 85.18, 64.98, 55.24, 54.73, 57.04, 96.15, 86.75, 82.84, 81.68, 96.9, 62.94, 53.13, 56.22, 62.87, 78.34, 80.61, 90.16, 92.05, 58.37, 82.67, 60.64, 54.53, 86.19, 51.94, 74.42, 80.41, 77.36, 56.05, 78.87, 98.95, 66.84, 82.44, 61.52, 88.56, 92.96, 76.62, 67.07, 90.77, 67.74, 92.42, 78.68, 71.51, 72.48, 65.79, 82.88, 63.13, 87.27, 84.31, 67.3, 61.6, 75.14, 50.97, 83.93, 61.78, 82.81, 95.05, 63.74, 78.5, 91.79, 51.0, 88.16, 95.13, 85.26, 76.47, 60.36, 75.96]\n"
          ]
        }
      ]
    },
    {
      "cell_type": "code",
      "source": [
        "fabrica2=[]\n",
        "for i in range (100) :\n",
        "  numero_aleatorio2 = round(random.uniform(40, 93), 2 )\n",
        "  fabrica2.append(numero_aleatorio2)\n",
        "print(fabrica2)\n"
      ],
      "metadata": {
        "colab": {
          "base_uri": "https://localhost:8080/"
        },
        "id": "VL_oHelb0mMs",
        "outputId": "5816206d-4f85-4003-9d43-6efa112d5b53"
      },
      "execution_count": 37,
      "outputs": [
        {
          "output_type": "stream",
          "name": "stdout",
          "text": [
            "[83.71, 60.62, 40.08, 61.59, 85.6, 47.55, 71.61, 77.04, 55.68, 80.56, 49.63, 59.41, 90.27, 66.63, 60.8, 82.67, 70.5, 53.18, 48.28, 57.73, 82.86, 73.27, 91.45, 52.03, 41.72, 68.6, 86.2, 69.62, 75.88, 42.62, 87.92, 61.34, 64.31, 85.04, 76.99, 53.7, 85.96, 70.68, 69.39, 70.46, 57.99, 61.95, 76.83, 85.75, 80.49, 52.12, 66.84, 46.55, 92.11, 84.8, 80.95, 74.25, 63.68, 63.02, 82.69, 53.13, 60.22, 47.64, 56.85, 82.67, 42.0, 45.01, 92.52, 83.78, 42.61, 53.81, 89.4, 80.49, 58.9, 72.87, 66.68, 72.1, 79.86, 40.24, 52.95, 52.64, 82.66, 52.19, 61.01, 86.16, 66.31, 57.18, 70.68, 56.06, 69.12, 78.03, 81.52, 64.38, 65.22, 68.29, 71.13, 45.95, 84.89, 54.51, 52.01, 82.53, 42.4, 86.47, 89.18, 51.2]\n"
          ]
        }
      ]
    },
    {
      "cell_type": "code",
      "source": [
        "import matplotlib.pyplot as plt"
      ],
      "metadata": {
        "id": "FHE63Pl60wIk"
      },
      "execution_count": 38,
      "outputs": []
    },
    {
      "cell_type": "code",
      "source": [
        "import matplotlib.pyplot as plt\n",
        "plt.hist(fabrica1)\n",
        "plt.title(\"Produccion diaria de la fabrica 1\")"
      ],
      "metadata": {
        "colab": {
          "base_uri": "https://localhost:8080/",
          "height": 469
        },
        "id": "t-AKF1ZB0nTM",
        "outputId": "98766052-e65f-4154-bfbb-8291b6130ddb"
      },
      "execution_count": 39,
      "outputs": [
        {
          "output_type": "execute_result",
          "data": {
            "text/plain": [
              "Text(0.5, 1.0, 'Produccion diaria de la fabrica 1')"
            ]
          },
          "metadata": {},
          "execution_count": 39
        },
        {
          "output_type": "display_data",
          "data": {
            "text/plain": [
              "<Figure size 640x480 with 1 Axes>"
            ],
            "image/png": "[encoded data removed]"
          },
          "metadata": {}
        }
      ]
    },
    {
      "cell_type": "code",
      "source": [
        "import matplotlib.pyplot as plt\n",
        "plt.hist(fabrica2)\n",
        "plt.title(\"Produccion diaria de la fabrica 2\")"
      ],
      "metadata": {
        "colab": {
          "base_uri": "https://localhost:8080/",
          "height": 469
        },
        "id": "lN8Xw_Nj0trF",
        "outputId": "0fd47b00-c6b6-4934-d745-b3eda8c6677c"
      },
      "execution_count": 40,
      "outputs": [
        {
          "output_type": "execute_result",
          "data": {
            "text/plain": [
              "Text(0.5, 1.0, 'Produccion diaria de la fabrica 2')"
            ]
          },
          "metadata": {},
          "execution_count": 40
        },
        {
          "output_type": "display_data",
          "data": {
            "text/plain": [
              "<Figure size 640x480 with 1 Axes>"
            ],
            "image/png": "[encoded data removed]"
          },
          "metadata": {}
        }
      ]
    },
    {
      "cell_type": "code",
      "source": [
        "from statistics import *"
      ],
      "metadata": {
        "id": "vyWPg9mV05dc"
      },
      "execution_count": 41,
      "outputs": []
    },
    {
      "cell_type": "code",
      "source": [
        "media1 = mean(fabrica1)\n",
        "mediana1 = median(fabrica1)\n",
        "moda1 = mode(fabrica1)"
      ],
      "metadata": {
        "id": "ksRnNAN307CY"
      },
      "execution_count": 42,
      "outputs": []
    },
    {
      "cell_type": "code",
      "source": [
        "print(\"Valores de la fabrica 1\")\n",
        "print(\"La media de la fabrica 1 es=>\",media1)\n",
        "print(\"La mediana de la fabrica 1 es=>\",mediana1)\n",
        "print(\"La moda de la fabrica 1 es=>\",moda1)"
      ],
      "metadata": {
        "colab": {
          "base_uri": "https://localhost:8080/"
        },
        "id": "csXPimoF1BOP",
        "outputId": "054a936a-e683-498c-8615-b5fac8f0db6e"
      },
      "execution_count": 43,
      "outputs": [
        {
          "output_type": "stream",
          "name": "stdout",
          "text": [
            "Valores de la fabrica 1\n",
            "La media de la fabrica 1 es=> 73.318\n",
            "La mediana de la fabrica 1 es=> 76.215\n",
            "La moda de la fabrica 1 es=> 60.43\n"
          ]
        }
      ]
    },
    {
      "cell_type": "code",
      "source": [
        "media2 = mean(fabrica2)\n",
        "mediana2 = median(fabrica2)\n",
        "moda2 = mode(fabrica2)\n"
      ],
      "metadata": {
        "id": "yFEsn_tQ1E6t"
      },
      "execution_count": 44,
      "outputs": []
    },
    {
      "cell_type": "code",
      "source": [
        "print(\"Valores de la fabrica 2\")\n",
        "print(\"La media de la fabrica 2 es=>\",media2)\n",
        "print(\"La mediana de la fabrica 2 es=>\",mediana2)\n",
        "print(\"La moda de la fabrica 2 es=>\",moda2)"
      ],
      "metadata": {
        "colab": {
          "base_uri": "https://localhost:8080/"
        },
        "id": "Kiv8NlzM1Hz8",
        "outputId": "bff65bab-eabb-4c0a-cabf-fc69b627fc91"
      },
      "execution_count": 45,
      "outputs": [
        {
          "output_type": "stream",
          "name": "stdout",
          "text": [
            "Valores de la fabrica 2\n",
            "La media de la fabrica 2 es=> 67.2865\n",
            "La mediana de la fabrica 2 es=> 67.565\n",
            "La moda de la fabrica 2 es=> 82.67\n"
          ]
        }
      ]
    },
    {
      "cell_type": "code",
      "source": [
        "fig, (ax1, ax2) = plt.subplots(nrows = 1, ncols = 2, figsize = (10, 5))\n",
        "ax1. hist(fabrica1)\n",
        "ax2.hist(fabrica2)\n",
        "plt. show()"
      ],
      "metadata": {
        "colab": {
          "base_uri": "https://localhost:8080/",
          "height": 445
        },
        "id": "HAIwkEmf1K2E",
        "outputId": "348cde75-da21-4366-822a-d4942b1e1476"
      },
      "execution_count": 46,
      "outputs": [
        {
          "output_type": "display_data",
          "data": {
            "text/plain": [
              "<Figure size 1000x500 with 2 Axes>"
            ],
            "image/png": "[encoded data removed]"
          },
          "metadata": {}
        }
      ]
    },
    {
      "cell_type": "code",
      "source": [
        "plt.hist(fabrica1, bins=10, alpha=0.2, color='b', edgecolor = \"black\")\n",
        "plt.axvline(media1, color='b', linestyle='dashed', linewidth=2, label='Media')\n",
        "plt.axvline(mediana1, color='r', linestyle='dashed', linewidth=2, label=\"Mediana\")\n",
        "plt.axvline(moda1, color='y', linestyle='dashed', linewidth=2, label='Moda')\n",
        "plt.xlabel ('Valor')\n",
        "plt.ylabel('Frecuencia')\n",
        "plt.title(\"Producción diaria de la fabrica 1\")\n",
        "plt.legend()\n",
        "plt.show()"
      ],
      "metadata": {
        "colab": {
          "base_uri": "https://localhost:8080/",
          "height": 472
        },
        "id": "bkUG3S2M1QWa",
        "outputId": "38cb993e-986f-44c4-a9f2-6f0ebc1217a3"
      },
      "execution_count": 47,
      "outputs": [
        {
          "output_type": "display_data",
          "data": {
            "text/plain": [
              "<Figure size 640x480 with 1 Axes>"
            ],
            "image/png": "[encoded data removed]"
          },
          "metadata": {}
        }
      ]
    },
    {
      "cell_type": "code",
      "source": [
        "plt.hist(fabrica2, bins=10, alpha=0.2, color='b', edgecolor = \"black\")\n",
        "plt.axvline(media2, color='b', linestyle='dashed', linewidth=2, label='Media')\n",
        "plt.axvline(mediana2, color='r', linestyle='dashed', linewidth=2, label=\"Mediana\")\n",
        "plt.axvline(moda2, color='y', linestyle='dashed', linewidth=2, label='Moda')\n",
        "plt.xlabel ('Valor')\n",
        "plt.ylabel('Frecuencia')\n",
        "plt.title(\"Producción diaria de la fabrica 2\")\n",
        "plt.legend()\n",
        "plt.show()"
      ],
      "metadata": {
        "colab": {
          "base_uri": "https://localhost:8080/",
          "height": 472
        },
        "id": "4jARrq1L1VNf",
        "outputId": "1d9047b7-de3f-49a3-f21e-6f7f99779a3f"
      },
      "execution_count": 48,
      "outputs": [
        {
          "output_type": "display_data",
          "data": {
            "text/plain": [
              "<Figure size 640x480 with 1 Axes>"
            ],
            "image/png": "[encoded data removed]"
          },
          "metadata": {}
        }
      ]
    }
  ],
  "metadata": {
    "colab": {
      "provenance": [],
      "authorship_tag": "ABX9TyMONjkADAnQL5x71YiozErT",
      "include_colab_link": true
    },
    "kernelspec": {
      "display_name": "Python 3",
      "name": "python3"
    },
    "language_info": {
      "name": "python"
    }
  },
  "nbformat": 4,
  "nbformat_minor": 0
}