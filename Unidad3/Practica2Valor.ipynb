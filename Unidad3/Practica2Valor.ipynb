{
  "nbformat": 4,
  "nbformat_minor": 0,
  "metadata": {
    "colab": {
      "provenance": [],
      "authorship_tag": "ABX9TyPXMS29qq48cWnMTJmFHpJm",
      "include_colab_link": true
    },
    "kernelspec": {
      "name": "python3",
      "display_name": "Python 3"
    },
    "language_info": {
      "name": "python"
    }
  },
  "cells": [
    {
      "cell_type": "markdown",
      "metadata": {
        "id": "view-in-github",
        "colab_type": "text"
      },
      "source": [
        "<a href=\"https://colab.research.google.com/github/25040145/probabilidad/blob/main/Unidad3/Practica2Valor.ipynb\" target=\"_parent\"><img src=\"https://colab.research.google.com/assets/colab-badge.svg\" alt=\"Open In Colab\"/></a>"
      ]
    },
    {
      "cell_type": "markdown",
      "source": [
        "![image](https://github.com/Jose-Gabriel-Rodriguez/Probabilidad/blob/main/Cintilla2025.png?raw=true)\n",
        "\n",
        "### **PROBABILIDAD Y ESTADISTICA**\n",
        "\n",
        "### **Ejercicios de valor esperado**\n",
        "\n",
        "### **Unidad 3**\n",
        "\n",
        "## *Docente: Dr. Jose Gabriel Rodriguez Rivas*\n",
        "\n",
        "## *Alumno: Andree Osvaldo Moreno Serna*"
      ],
      "metadata": {
        "id": "_6EaUdw80PK4"
      }
    },
    {
      "cell_type": "code",
      "execution_count": 1,
      "metadata": {
        "id": "RQ-rPcmU0BJT"
      },
      "outputs": [],
      "source": [
        "x = [5,6,7,8,9,10] #Valores posibles de la variable aleatoria\n",
        "p = [0.05,0.10,0.20,0.30,0.25,0.10] #Probabilidades correspondientes"
      ]
    },
    {
      "cell_type": "code",
      "source": [
        "#Inicializar una variable para acumular la suma\n",
        "valor_esperado =0"
      ],
      "metadata": {
        "id": "Q82yZbID0iXU"
      },
      "execution_count": 2,
      "outputs": []
    },
    {
      "cell_type": "code",
      "source": [
        "#Recorrer los valores y sus probabilidades\n",
        "for i in range(len(x)):\n",
        "  xi = x[i] #valor de la variable aleatoria\n",
        "  pi = p[i] #Probabilidad de ese valor\n",
        "  producto = xi * pi   #Multiplicar valor de su probabilidad\n",
        "  valor_esperado +=producto  #sumar valor por su probabilidad\n",
        "  #Mostrar cada paso\n",
        "  print(f\"x ={xi},p ={pi},x*p={producto:.2f}\")\n",
        "  #Mostrar resultado final\n",
        "  print(f\"\\nValor esperado (Esperanza): {valor_esperado:.2f}\")"
      ],
      "metadata": {
        "colab": {
          "base_uri": "https://localhost:8080/"
        },
        "id": "mVba7p0o0my0",
        "outputId": "d6d40bd7-ae39-46e0-aa7b-dfebfb53f231"
      },
      "execution_count": 3,
      "outputs": [
        {
          "output_type": "stream",
          "name": "stdout",
          "text": [
            "x =5,p =0.05,x*p=0.25\n",
            "\n",
            "Valor esperado (Esperanza): 0.25\n",
            "x =6,p =0.1,x*p=0.60\n",
            "\n",
            "Valor esperado (Esperanza): 0.85\n",
            "x =7,p =0.2,x*p=1.40\n",
            "\n",
            "Valor esperado (Esperanza): 2.25\n",
            "x =8,p =0.3,x*p=2.40\n",
            "\n",
            "Valor esperado (Esperanza): 4.65\n",
            "x =9,p =0.25,x*p=2.25\n",
            "\n",
            "Valor esperado (Esperanza): 6.90\n",
            "x =10,p =0.1,x*p=1.00\n",
            "\n",
            "Valor esperado (Esperanza): 7.90\n"
          ]
        }
      ]
    }
  ]
}