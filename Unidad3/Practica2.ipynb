{
  "nbformat": 4,
  "nbformat_minor": 0,
  "metadata": {
    "colab": {
      "provenance": [],
      "authorship_tag": "ABX9TyMpyTmJRRheLXjJSLu/oQUR",
      "include_colab_link": true
    },
    "kernelspec": {
      "name": "python3",
      "display_name": "Python 3"
    },
    "language_info": {
      "name": "python"
    }
  },
  "cells": [
    {
      "cell_type": "markdown",
      "metadata": {
        "id": "view-in-github",
        "colab_type": "text"
      },
      "source": [
        "<a href=\"https://colab.research.google.com/github/25040145/probabilidad/blob/main/Unidad3/Practica2.ipynb\" target=\"_parent\"><img src=\"https://colab.research.google.com/assets/colab-badge.svg\" alt=\"Open In Colab\"/></a>"
      ]
    },
    {
      "cell_type": "code",
      "execution_count": null,
      "metadata": {
        "id": "hBb7X-6hKSi_"
      },
      "outputs": [],
      "source": [
        "x = [5, 6, 7, 8, 9, 10] # Valores posibles de la variable aleatoria\n",
        "p = [0.05, 0.10, 0.20, 0.30, 0.25, 0.10] # Probabilidad correspondientes"
      ]
    },
    {
      "cell_type": "code",
      "source": [
        "# Inicializar una variable para acumular la suma\n",
        "valor_esperado = 0"
      ],
      "metadata": {
        "id": "By8iTpETK6E2"
      },
      "execution_count": null,
      "outputs": []
    },
    {
      "cell_type": "code",
      "source": [
        "# Recorrer los valores y sus probabilidades\n",
        "for i in range(len(x)):\n",
        "    xi =x[i]         # Valor de la variable aleatoria\n",
        "    pi =p[i]         # Probabildad de ese valor\n",
        "    producto = xi * pi          # Multiplicar valor por su probabilidad\n",
        "    valor_esperado += producto  # sumar al acumulador\n",
        "    # Mostrar cada paso\n",
        "    print(f\"x = {xi}, p = {pi}, x*p = {producto:.2f}\")"
      ],
      "metadata": {
        "colab": {
          "base_uri": "https://localhost:8080/"
        },
        "id": "hlvNUPdjLEWl",
        "outputId": "e70af3b1-0739-49d2-ab98-0f369fcce3c1"
      },
      "execution_count": null,
      "outputs": [
        {
          "output_type": "stream",
          "name": "stdout",
          "text": [
            "x = 5, p = 0.05, x*p = 0.25\n",
            "x = 6, p = 0.1, x*p = 0.60\n",
            "x = 7, p = 0.2, x*p = 1.40\n",
            "x = 8, p = 0.3, x*p = 2.40\n",
            "x = 9, p = 0.25, x*p = 2.25\n",
            "x = 10, p = 0.1, x*p = 1.00\n"
          ]
        }
      ]
    },
    {
      "cell_type": "code",
      "source": [
        "# Mostrar resultado final\n",
        "print(f\"\\nValor esperado (Esperanza): {valor_esperado:2f}\")"
      ],
      "metadata": {
        "colab": {
          "base_uri": "https://localhost:8080/"
        },
        "id": "OCnZTyjcMXWx",
        "outputId": "4afa68b7-5123-46c7-ae08-0f206ea26145"
      },
      "execution_count": null,
      "outputs": [
        {
          "output_type": "stream",
          "name": "stdout",
          "text": [
            "\n",
            "Valor esperado (Esperanza): 15.800000\n"
          ]
        }
      ]
    }
  ]
}